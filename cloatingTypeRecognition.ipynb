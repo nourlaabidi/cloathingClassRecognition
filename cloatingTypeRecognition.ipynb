{
  "nbformat": 4,
  "nbformat_minor": 0,
  "metadata": {
    "colab": {
      "provenance": [],
      "authorship_tag": "ABX9TyMLUaiHXAbpLx1RbaQWBlWf",
      "include_colab_link": true
    },
    "kernelspec": {
      "name": "python3",
      "display_name": "Python 3"
    },
    "language_info": {
      "name": "python"
    }
  },
  "cells": [
    {
      "cell_type": "markdown",
      "metadata": {
        "id": "view-in-github",
        "colab_type": "text"
      },
      "source": [
        "<a href=\"https://colab.research.google.com/github/nourlaabidi/cloathingClassRecognition/blob/main/cloatingTypeRecognition.ipynb\" target=\"_parent\"><img src=\"https://colab.research.google.com/assets/colab-badge.svg\" alt=\"Open In Colab\"/></a>"
      ]
    },
    {
      "cell_type": "markdown",
      "source": [
        "# **imports and installations**"
      ],
      "metadata": {
        "id": "HgLfedwBoYoy"
      }
    },
    {
      "cell_type": "code",
      "execution_count": 1,
      "metadata": {
        "colab": {
          "base_uri": "https://localhost:8080/"
        },
        "id": "V57ULqben1tc",
        "outputId": "efbbebc5-41b9-4069-ec7e-32b89a93b868"
      },
      "outputs": [
        {
          "output_type": "stream",
          "name": "stdout",
          "text": [
            "Requirement already satisfied: torch in /usr/local/lib/python3.10/dist-packages (2.3.1+cu121)\n",
            "Requirement already satisfied: torchvision in /usr/local/lib/python3.10/dist-packages (0.18.1+cu121)\n",
            "Requirement already satisfied: filelock in /usr/local/lib/python3.10/dist-packages (from torch) (3.15.4)\n",
            "Requirement already satisfied: typing-extensions>=4.8.0 in /usr/local/lib/python3.10/dist-packages (from torch) (4.12.2)\n",
            "Requirement already satisfied: sympy in /usr/local/lib/python3.10/dist-packages (from torch) (1.13.1)\n",
            "Requirement already satisfied: networkx in /usr/local/lib/python3.10/dist-packages (from torch) (3.3)\n",
            "Requirement already satisfied: jinja2 in /usr/local/lib/python3.10/dist-packages (from torch) (3.1.4)\n",
            "Requirement already satisfied: fsspec in /usr/local/lib/python3.10/dist-packages (from torch) (2024.6.1)\n",
            "Collecting nvidia-cuda-nvrtc-cu12==12.1.105 (from torch)\n",
            "  Using cached nvidia_cuda_nvrtc_cu12-12.1.105-py3-none-manylinux1_x86_64.whl.metadata (1.5 kB)\n",
            "Collecting nvidia-cuda-runtime-cu12==12.1.105 (from torch)\n",
            "  Using cached nvidia_cuda_runtime_cu12-12.1.105-py3-none-manylinux1_x86_64.whl.metadata (1.5 kB)\n",
            "Collecting nvidia-cuda-cupti-cu12==12.1.105 (from torch)\n",
            "  Using cached nvidia_cuda_cupti_cu12-12.1.105-py3-none-manylinux1_x86_64.whl.metadata (1.6 kB)\n",
            "Collecting nvidia-cudnn-cu12==8.9.2.26 (from torch)\n",
            "  Using cached nvidia_cudnn_cu12-8.9.2.26-py3-none-manylinux1_x86_64.whl.metadata (1.6 kB)\n",
            "Collecting nvidia-cublas-cu12==12.1.3.1 (from torch)\n",
            "  Using cached nvidia_cublas_cu12-12.1.3.1-py3-none-manylinux1_x86_64.whl.metadata (1.5 kB)\n",
            "Collecting nvidia-cufft-cu12==11.0.2.54 (from torch)\n",
            "  Using cached nvidia_cufft_cu12-11.0.2.54-py3-none-manylinux1_x86_64.whl.metadata (1.5 kB)\n",
            "Collecting nvidia-curand-cu12==10.3.2.106 (from torch)\n",
            "  Using cached nvidia_curand_cu12-10.3.2.106-py3-none-manylinux1_x86_64.whl.metadata (1.5 kB)\n",
            "Collecting nvidia-cusolver-cu12==11.4.5.107 (from torch)\n",
            "  Using cached nvidia_cusolver_cu12-11.4.5.107-py3-none-manylinux1_x86_64.whl.metadata (1.6 kB)\n",
            "Collecting nvidia-cusparse-cu12==12.1.0.106 (from torch)\n",
            "  Using cached nvidia_cusparse_cu12-12.1.0.106-py3-none-manylinux1_x86_64.whl.metadata (1.6 kB)\n",
            "Collecting nvidia-nccl-cu12==2.20.5 (from torch)\n",
            "  Using cached nvidia_nccl_cu12-2.20.5-py3-none-manylinux2014_x86_64.whl.metadata (1.8 kB)\n",
            "Collecting nvidia-nvtx-cu12==12.1.105 (from torch)\n",
            "  Using cached nvidia_nvtx_cu12-12.1.105-py3-none-manylinux1_x86_64.whl.metadata (1.7 kB)\n",
            "Requirement already satisfied: triton==2.3.1 in /usr/local/lib/python3.10/dist-packages (from torch) (2.3.1)\n",
            "Collecting nvidia-nvjitlink-cu12 (from nvidia-cusolver-cu12==11.4.5.107->torch)\n",
            "  Using cached nvidia_nvjitlink_cu12-12.6.20-py3-none-manylinux2014_x86_64.whl.metadata (1.5 kB)\n",
            "Requirement already satisfied: numpy in /usr/local/lib/python3.10/dist-packages (from torchvision) (1.26.4)\n",
            "Requirement already satisfied: pillow!=8.3.*,>=5.3.0 in /usr/local/lib/python3.10/dist-packages (from torchvision) (9.4.0)\n",
            "Requirement already satisfied: MarkupSafe>=2.0 in /usr/local/lib/python3.10/dist-packages (from jinja2->torch) (2.1.5)\n",
            "Requirement already satisfied: mpmath<1.4,>=1.1.0 in /usr/local/lib/python3.10/dist-packages (from sympy->torch) (1.3.0)\n",
            "Using cached nvidia_cublas_cu12-12.1.3.1-py3-none-manylinux1_x86_64.whl (410.6 MB)\n",
            "Using cached nvidia_cuda_cupti_cu12-12.1.105-py3-none-manylinux1_x86_64.whl (14.1 MB)\n",
            "Using cached nvidia_cuda_nvrtc_cu12-12.1.105-py3-none-manylinux1_x86_64.whl (23.7 MB)\n",
            "Using cached nvidia_cuda_runtime_cu12-12.1.105-py3-none-manylinux1_x86_64.whl (823 kB)\n",
            "Using cached nvidia_cudnn_cu12-8.9.2.26-py3-none-manylinux1_x86_64.whl (731.7 MB)\n",
            "Using cached nvidia_cufft_cu12-11.0.2.54-py3-none-manylinux1_x86_64.whl (121.6 MB)\n",
            "Using cached nvidia_curand_cu12-10.3.2.106-py3-none-manylinux1_x86_64.whl (56.5 MB)\n",
            "Using cached nvidia_cusolver_cu12-11.4.5.107-py3-none-manylinux1_x86_64.whl (124.2 MB)\n",
            "Using cached nvidia_cusparse_cu12-12.1.0.106-py3-none-manylinux1_x86_64.whl (196.0 MB)\n",
            "Using cached nvidia_nccl_cu12-2.20.5-py3-none-manylinux2014_x86_64.whl (176.2 MB)\n",
            "Using cached nvidia_nvtx_cu12-12.1.105-py3-none-manylinux1_x86_64.whl (99 kB)\n",
            "Using cached nvidia_nvjitlink_cu12-12.6.20-py3-none-manylinux2014_x86_64.whl (19.7 MB)\n",
            "Installing collected packages: nvidia-nvtx-cu12, nvidia-nvjitlink-cu12, nvidia-nccl-cu12, nvidia-curand-cu12, nvidia-cufft-cu12, nvidia-cuda-runtime-cu12, nvidia-cuda-nvrtc-cu12, nvidia-cuda-cupti-cu12, nvidia-cublas-cu12, nvidia-cusparse-cu12, nvidia-cudnn-cu12, nvidia-cusolver-cu12\n",
            "Successfully installed nvidia-cublas-cu12-12.1.3.1 nvidia-cuda-cupti-cu12-12.1.105 nvidia-cuda-nvrtc-cu12-12.1.105 nvidia-cuda-runtime-cu12-12.1.105 nvidia-cudnn-cu12-8.9.2.26 nvidia-cufft-cu12-11.0.2.54 nvidia-curand-cu12-10.3.2.106 nvidia-cusolver-cu12-11.4.5.107 nvidia-cusparse-cu12-12.1.0.106 nvidia-nccl-cu12-2.20.5 nvidia-nvjitlink-cu12-12.6.20 nvidia-nvtx-cu12-12.1.105\n",
            "Requirement already satisfied: matplotlib in /usr/local/lib/python3.10/dist-packages (3.7.1)\n",
            "Requirement already satisfied: contourpy>=1.0.1 in /usr/local/lib/python3.10/dist-packages (from matplotlib) (1.2.1)\n",
            "Requirement already satisfied: cycler>=0.10 in /usr/local/lib/python3.10/dist-packages (from matplotlib) (0.12.1)\n",
            "Requirement already satisfied: fonttools>=4.22.0 in /usr/local/lib/python3.10/dist-packages (from matplotlib) (4.53.1)\n",
            "Requirement already satisfied: kiwisolver>=1.0.1 in /usr/local/lib/python3.10/dist-packages (from matplotlib) (1.4.5)\n",
            "Requirement already satisfied: numpy>=1.20 in /usr/local/lib/python3.10/dist-packages (from matplotlib) (1.26.4)\n",
            "Requirement already satisfied: packaging>=20.0 in /usr/local/lib/python3.10/dist-packages (from matplotlib) (24.1)\n",
            "Requirement already satisfied: pillow>=6.2.0 in /usr/local/lib/python3.10/dist-packages (from matplotlib) (9.4.0)\n",
            "Requirement already satisfied: pyparsing>=2.3.1 in /usr/local/lib/python3.10/dist-packages (from matplotlib) (3.1.2)\n",
            "Requirement already satisfied: python-dateutil>=2.7 in /usr/local/lib/python3.10/dist-packages (from matplotlib) (2.8.2)\n",
            "Requirement already satisfied: six>=1.5 in /usr/local/lib/python3.10/dist-packages (from python-dateutil>=2.7->matplotlib) (1.16.0)\n"
          ]
        }
      ],
      "source": [
        "!pip install torch torchvision\n",
        "!pip install matplotlib"
      ]
    },
    {
      "cell_type": "code",
      "source": [
        "%matplotlib inline\n",
        "import torch\n",
        "from torch import nn\n",
        "from torch.utils.data import DataLoader\n",
        "from torchvision import datasets\n",
        "from torchvision.transforms import ToTensor, Lambda, Compose\n",
        "import matplotlib.pyplot as plt"
      ],
      "metadata": {
        "id": "C4GmxdeWoTOb"
      },
      "execution_count": 2,
      "outputs": []
    },
    {
      "cell_type": "markdown",
      "source": [
        "# Download training data and test data from open datasets"
      ],
      "metadata": {
        "id": "lfqDcn7Do7xi"
      }
    },
    {
      "cell_type": "code",
      "source": [
        "# Download training data from open datasets.\n",
        "training_data = datasets.FashionMNIST(\n",
        "    root=\"data\",\n",
        "    train=True,\n",
        "    download=True,\n",
        "    transform=ToTensor(),\n",
        ")\n",
        "\n",
        "# Download test data from open datasets.\n",
        "test_data = datasets.FashionMNIST(\n",
        "    root=\"data\",\n",
        "    train=False,\n",
        "    download=True,\n",
        "    transform=ToTensor(),\n",
        ")"
      ],
      "metadata": {
        "colab": {
          "base_uri": "https://localhost:8080/"
        },
        "id": "Qf15BHcJor6n",
        "outputId": "ac7c3bde-3aed-4115-b574-65db4e3bc9d4"
      },
      "execution_count": 3,
      "outputs": [
        {
          "output_type": "stream",
          "name": "stdout",
          "text": [
            "Downloading http://fashion-mnist.s3-website.eu-central-1.amazonaws.com/train-images-idx3-ubyte.gz\n",
            "Downloading http://fashion-mnist.s3-website.eu-central-1.amazonaws.com/train-images-idx3-ubyte.gz to data/FashionMNIST/raw/train-images-idx3-ubyte.gz\n"
          ]
        },
        {
          "output_type": "stream",
          "name": "stderr",
          "text": [
            "100%|██████████| 26421880/26421880 [00:11<00:00, 2340552.30it/s]\n"
          ]
        },
        {
          "output_type": "stream",
          "name": "stdout",
          "text": [
            "Extracting data/FashionMNIST/raw/train-images-idx3-ubyte.gz to data/FashionMNIST/raw\n",
            "\n",
            "Downloading http://fashion-mnist.s3-website.eu-central-1.amazonaws.com/train-labels-idx1-ubyte.gz\n",
            "Downloading http://fashion-mnist.s3-website.eu-central-1.amazonaws.com/train-labels-idx1-ubyte.gz to data/FashionMNIST/raw/train-labels-idx1-ubyte.gz\n"
          ]
        },
        {
          "output_type": "stream",
          "name": "stderr",
          "text": [
            "100%|██████████| 29515/29515 [00:00<00:00, 138114.76it/s]\n"
          ]
        },
        {
          "output_type": "stream",
          "name": "stdout",
          "text": [
            "Extracting data/FashionMNIST/raw/train-labels-idx1-ubyte.gz to data/FashionMNIST/raw\n",
            "\n",
            "Downloading http://fashion-mnist.s3-website.eu-central-1.amazonaws.com/t10k-images-idx3-ubyte.gz\n",
            "Downloading http://fashion-mnist.s3-website.eu-central-1.amazonaws.com/t10k-images-idx3-ubyte.gz to data/FashionMNIST/raw/t10k-images-idx3-ubyte.gz\n"
          ]
        },
        {
          "output_type": "stream",
          "name": "stderr",
          "text": [
            "100%|██████████| 4422102/4422102 [00:01<00:00, 2622793.11it/s]\n"
          ]
        },
        {
          "output_type": "stream",
          "name": "stdout",
          "text": [
            "Extracting data/FashionMNIST/raw/t10k-images-idx3-ubyte.gz to data/FashionMNIST/raw\n",
            "\n",
            "Downloading http://fashion-mnist.s3-website.eu-central-1.amazonaws.com/t10k-labels-idx1-ubyte.gz\n",
            "Downloading http://fashion-mnist.s3-website.eu-central-1.amazonaws.com/t10k-labels-idx1-ubyte.gz to data/FashionMNIST/raw/t10k-labels-idx1-ubyte.gz\n"
          ]
        },
        {
          "output_type": "stream",
          "name": "stderr",
          "text": [
            "100%|██████████| 5148/5148 [00:00<00:00, 5224359.30it/s]"
          ]
        },
        {
          "output_type": "stream",
          "name": "stdout",
          "text": [
            "Extracting data/FashionMNIST/raw/t10k-labels-idx1-ubyte.gz to data/FashionMNIST/raw\n",
            "\n"
          ]
        },
        {
          "output_type": "stream",
          "name": "stderr",
          "text": [
            "\n"
          ]
        }
      ]
    },
    {
      "cell_type": "markdown",
      "source": [
        "# **Creating the train and test data loaders for an automatic batching,sampling, shuffling, and multiprocessing**\n"
      ],
      "metadata": {
        "id": "enXRU6C5pPkU"
      }
    },
    {
      "cell_type": "code",
      "source": [
        "batch_size = 64\n",
        "\n",
        "\n",
        "train_dataloader = DataLoader(training_data, batch_size=batch_size)\n",
        "test_dataloader = DataLoader(test_data, batch_size=batch_size)\n",
        "\n",
        "for X, y in test_dataloader:\n",
        "    print(\"Shape of X [N, C, H, W]: \", X.shape)\n",
        "    print(\"Shape of y: \", y.shape, y.dtype)\n",
        "    break"
      ],
      "metadata": {
        "colab": {
          "base_uri": "https://localhost:8080/"
        },
        "id": "XR0GRJfgou7X",
        "outputId": "44aba655-d25c-40e4-9f6f-33cbb0049d7f"
      },
      "execution_count": 5,
      "outputs": [
        {
          "output_type": "stream",
          "name": "stdout",
          "text": [
            "Shape of X [N, C, H, W]:  torch.Size([64, 1, 28, 28])\n",
            "Shape of y:  torch.Size([64]) torch.int64\n"
          ]
        }
      ]
    },
    {
      "cell_type": "code",
      "source": [
        "# Display sample data\n",
        "figure = plt.figure(figsize=(10, 8))\n",
        "cols, rows = 5, 5\n",
        "for i in range(1, cols * rows + 1):\n",
        "    idx = torch.randint(len(test_data), size=(1,)).item()\n",
        "    img, label = test_data[idx]\n",
        "    figure.add_subplot(rows, cols, i)\n",
        "    plt.title(label)\n",
        "    plt.axis(\"off\")\n",
        "    plt.imshow(img.squeeze(), cmap=\"gray\")\n",
        "plt.show()"
      ],
      "metadata": {
        "colab": {
          "base_uri": "https://localhost:8080/",
          "height": 675
        },
        "id": "TL2fg2oDo5oH",
        "outputId": "fca52bc4-090a-49b8-cf61-7fc0472e8650"
      },
      "execution_count": 6,
      "outputs": [
        {
          "output_type": "display_data",
          "data": {
            "text/plain": [
              "<Figure size 1000x800 with 25 Axes>"
            ],
            "image/png": "[encoded data removed]"
          },
          "metadata": {}
        }
      ]
    },
    {
      "cell_type": "markdown",
      "source": [
        "# **creating the model**"
      ],
      "metadata": {
        "id": "KP37i-nPqThi"
      }
    },
    {
      "cell_type": "code",
      "source": [
        "# Get cpu or gpu device for training.\n",
        "device = \"cuda\" if torch.cuda.is_available() else \"cpu\"\n",
        "print(\"Using {} device\".format(device))\n",
        "\n",
        "# Define model\n",
        "class NeuralNetwork(nn.Module):\n",
        "    def __init__(self):\n",
        "        super(NeuralNetwork, self).__init__()\n",
        "        self.flatten = nn.Flatten()\n",
        "        self.linear_relu_stack = nn.Sequential(\n",
        "            nn.Linear(28*28, 512),\n",
        "            nn.ReLU(),\n",
        "            nn.Linear(512, 512),\n",
        "            nn.ReLU(),\n",
        "            nn.Linear(512, 10),\n",
        "            nn.ReLU()\n",
        "        )\n",
        "\n",
        "    def forward(self, x):\n",
        "        x = self.flatten(x)\n",
        "        logits = self.linear_relu_stack(x)\n",
        "        return logits\n",
        "\n",
        "model = NeuralNetwork().to(device)\n",
        "print(model)"
      ],
      "metadata": {
        "colab": {
          "base_uri": "https://localhost:8080/"
        },
        "id": "jvq4z_69qeh8",
        "outputId": "f5c0db6f-a5dd-4352-f947-afb1235762bc"
      },
      "execution_count": 7,
      "outputs": [
        {
          "output_type": "stream",
          "name": "stdout",
          "text": [
            "Using cpu device\n",
            "NeuralNetwork(\n",
            "  (flatten): Flatten(start_dim=1, end_dim=-1)\n",
            "  (linear_relu_stack): Sequential(\n",
            "    (0): Linear(in_features=784, out_features=512, bias=True)\n",
            "    (1): ReLU()\n",
            "    (2): Linear(in_features=512, out_features=512, bias=True)\n",
            "    (3): ReLU()\n",
            "    (4): Linear(in_features=512, out_features=10, bias=True)\n",
            "    (5): ReLU()\n",
            "  )\n",
            ")\n"
          ]
        }
      ]
    },
    {
      "cell_type": "markdown",
      "source": [
        "# optimizing the model parameters"
      ],
      "metadata": {
        "id": "lYpmmGSYrHt6"
      }
    },
    {
      "cell_type": "code",
      "source": [
        "loss_fn = nn.CrossEntropyLoss()\n",
        "learning_rate = 1e-3\n",
        "optimizer = torch.optim.SGD(model.parameters(), lr=learning_rate)"
      ],
      "metadata": {
        "id": "cnkh7GfzqipQ"
      },
      "execution_count": 8,
      "outputs": []
    },
    {
      "cell_type": "markdown",
      "source": [
        "# trainnig and testings functions"
      ],
      "metadata": {
        "id": "0abS4kUwrY_P"
      }
    },
    {
      "cell_type": "code",
      "source": [
        "def train(dataloader, model, loss_fn, optimizer):\n",
        "    size = len(dataloader.dataset)\n",
        "    for batch, (X, y) in enumerate(dataloader):\n",
        "        X, y = X.to(device), y.to(device)\n",
        "\n",
        "        # Compute prediction error\n",
        "        pred = model(X)\n",
        "        loss = loss_fn(pred, y)\n",
        "\n",
        "        # Backpropagation\n",
        "        optimizer.zero_grad()\n",
        "        loss.backward()\n",
        "        optimizer.step()\n",
        "\n",
        "        if batch % 100 == 0:\n",
        "            loss, current = loss.item(), batch * len(X)\n",
        "            print(f\"loss: {loss:>7f}  [{current:>5d}/{size:>5d}]\")"
      ],
      "metadata": {
        "id": "279WWv9UrYGK"
      },
      "execution_count": 9,
      "outputs": []
    },
    {
      "cell_type": "code",
      "source": [
        "def test(dataloader, model):\n",
        "    size = len(dataloader.dataset)\n",
        "    model.eval()\n",
        "    test_loss, correct = 0, 0\n",
        "    with torch.no_grad():\n",
        "        for X, y in dataloader:\n",
        "            X, y = X.to(device), y.to(device)\n",
        "            pred = model(X)\n",
        "            test_loss += loss_fn(pred, y).item()\n",
        "            correct += (pred.argmax(1) == y).type(torch.float).sum().item()\n",
        "    test_loss /= size\n",
        "    correct /= size\n",
        "    print(f\"Test Error: \\n Accuracy: {(100*correct):>0.1f}%, Avg loss: {test_loss:>8f} \\n\")"
      ],
      "metadata": {
        "id": "5GYKH2KVrdjn"
      },
      "execution_count": 10,
      "outputs": []
    },
    {
      "cell_type": "markdown",
      "source": [
        "# iteration through the epochs"
      ],
      "metadata": {
        "id": "vyf975f0riNY"
      }
    },
    {
      "cell_type": "code",
      "source": [
        "epochs = 15\n",
        "for t in range(epochs):\n",
        "    print(f\"Epoch {t+1}\\n-------------------------------\")\n",
        "    train(train_dataloader, model, loss_fn, optimizer)\n",
        "    test(test_dataloader, model)\n",
        "print(\"Done!\")"
      ],
      "metadata": {
        "colab": {
          "base_uri": "https://localhost:8080/"
        },
        "id": "2O8V5FHMrht4",
        "outputId": "b38b5342-a6db-4671-9c5c-7587aca168c8"
      },
      "execution_count": 11,
      "outputs": [
        {
          "output_type": "stream",
          "name": "stdout",
          "text": [
            "Epoch 1\n",
            "-------------------------------\n",
            "loss: 2.293251  [    0/60000]\n",
            "loss: 2.290577  [ 6400/60000]\n",
            "loss: 2.283460  [12800/60000]\n",
            "loss: 2.288678  [19200/60000]\n",
            "loss: 2.281556  [25600/60000]\n",
            "loss: 2.271573  [32000/60000]\n",
            "loss: 2.264369  [38400/60000]\n",
            "loss: 2.246186  [44800/60000]\n",
            "loss: 2.239608  [51200/60000]\n",
            "loss: 2.257164  [57600/60000]\n",
            "Test Error: \n",
            " Accuracy: 33.3%, Avg loss: 0.035185 \n",
            "\n",
            "Epoch 2\n",
            "-------------------------------\n",
            "loss: 2.221310  [    0/60000]\n",
            "loss: 2.240554  [ 6400/60000]\n",
            "loss: 2.217552  [12800/60000]\n",
            "loss: 2.241204  [19200/60000]\n",
            "loss: 2.217164  [25600/60000]\n",
            "loss: 2.205089  [32000/60000]\n",
            "loss: 2.193873  [38400/60000]\n",
            "loss: 2.158097  [44800/60000]\n",
            "loss: 2.143709  [51200/60000]\n",
            "loss: 2.197515  [57600/60000]\n",
            "Test Error: \n",
            " Accuracy: 40.3%, Avg loss: 0.033869 \n",
            "\n",
            "Epoch 3\n",
            "-------------------------------\n",
            "loss: 2.116562  [    0/60000]\n",
            "loss: 2.161007  [ 6400/60000]\n",
            "loss: 2.112489  [12800/60000]\n",
            "loss: 2.164103  [19200/60000]\n",
            "loss: 2.122474  [25600/60000]\n",
            "loss: 2.109734  [32000/60000]\n",
            "loss: 2.086711  [38400/60000]\n",
            "loss: 2.026032  [44800/60000]\n",
            "loss: 2.004062  [51200/60000]\n",
            "loss: 2.111950  [57600/60000]\n",
            "Test Error: \n",
            " Accuracy: 41.0%, Avg loss: 0.032002 \n",
            "\n",
            "Epoch 4\n",
            "-------------------------------\n",
            "loss: 1.971347  [    0/60000]\n",
            "loss: 2.049798  [ 6400/60000]\n",
            "loss: 1.970787  [12800/60000]\n",
            "loss: 2.063742  [19200/60000]\n",
            "loss: 2.008041  [25600/60000]\n",
            "loss: 1.998417  [32000/60000]\n",
            "loss: 1.961246  [38400/60000]\n",
            "loss: 1.884419  [44800/60000]\n",
            "loss: 1.864741  [51200/60000]\n",
            "loss: 2.029968  [57600/60000]\n",
            "Test Error: \n",
            " Accuracy: 42.5%, Avg loss: 0.030188 \n",
            "\n",
            "Epoch 5\n",
            "-------------------------------\n",
            "loss: 1.827234  [    0/60000]\n",
            "loss: 1.939397  [ 6400/60000]\n",
            "loss: 1.840622  [12800/60000]\n",
            "loss: 1.984299  [19200/60000]\n",
            "loss: 1.914347  [25600/60000]\n",
            "loss: 1.908601  [32000/60000]\n",
            "loss: 1.864066  [38400/60000]\n",
            "loss: 1.779514  [44800/60000]\n",
            "loss: 1.763697  [51200/60000]\n",
            "loss: 1.975137  [57600/60000]\n",
            "Test Error: \n",
            " Accuracy: 44.2%, Avg loss: 0.028886 \n",
            "\n",
            "Epoch 6\n",
            "-------------------------------\n",
            "loss: 1.717714  [    0/60000]\n",
            "loss: 1.855043  [ 6400/60000]\n",
            "loss: 1.744920  [12800/60000]\n",
            "loss: 1.931000  [19200/60000]\n",
            "loss: 1.849916  [25600/60000]\n",
            "loss: 1.845614  [32000/60000]\n",
            "loss: 1.797527  [38400/60000]\n",
            "loss: 1.691132  [44800/60000]\n",
            "loss: 1.686692  [51200/60000]\n",
            "loss: 1.910287  [57600/60000]\n",
            "Test Error: \n",
            " Accuracy: 47.3%, Avg loss: 0.027496 \n",
            "\n",
            "Epoch 7\n",
            "-------------------------------\n",
            "loss: 1.610442  [    0/60000]\n",
            "loss: 1.748647  [ 6400/60000]\n",
            "loss: 1.615822  [12800/60000]\n",
            "loss: 1.861772  [19200/60000]\n",
            "loss: 1.693218  [25600/60000]\n",
            "loss: 1.699219  [32000/60000]\n",
            "loss: 1.687204  [38400/60000]\n",
            "loss: 1.549491  [44800/60000]\n",
            "loss: 1.613389  [51200/60000]\n",
            "loss: 1.836012  [57600/60000]\n",
            "Test Error: \n",
            " Accuracy: 50.9%, Avg loss: 0.026029 \n",
            "\n",
            "Epoch 8\n",
            "-------------------------------\n",
            "loss: 1.501602  [    0/60000]\n",
            "loss: 1.639509  [ 6400/60000]\n",
            "loss: 1.500937  [12800/60000]\n",
            "loss: 1.802916  [19200/60000]\n",
            "loss: 1.577901  [25600/60000]\n",
            "loss: 1.600025  [32000/60000]\n",
            "loss: 1.615987  [38400/60000]\n",
            "loss: 1.459167  [44800/60000]\n",
            "loss: 1.557792  [51200/60000]\n",
            "loss: 1.787573  [57600/60000]\n",
            "Test Error: \n",
            " Accuracy: 50.3%, Avg loss: 0.024985 \n",
            "\n",
            "Epoch 9\n",
            "-------------------------------\n",
            "loss: 1.429237  [    0/60000]\n",
            "loss: 1.563782  [ 6400/60000]\n",
            "loss: 1.422398  [12800/60000]\n",
            "loss: 1.756999  [19200/60000]\n",
            "loss: 1.498904  [25600/60000]\n",
            "loss: 1.535867  [32000/60000]\n",
            "loss: 1.568026  [38400/60000]\n",
            "loss: 1.401757  [44800/60000]\n",
            "loss: 1.514667  [51200/60000]\n",
            "loss: 1.750653  [57600/60000]\n",
            "Test Error: \n",
            " Accuracy: 51.0%, Avg loss: 0.024216 \n",
            "\n",
            "Epoch 10\n",
            "-------------------------------\n",
            "loss: 1.377924  [    0/60000]\n",
            "loss: 1.507592  [ 6400/60000]\n",
            "loss: 1.363852  [12800/60000]\n",
            "loss: 1.718626  [19200/60000]\n",
            "loss: 1.441294  [25600/60000]\n",
            "loss: 1.489620  [32000/60000]\n",
            "loss: 1.528603  [38400/60000]\n",
            "loss: 1.360693  [44800/60000]\n",
            "loss: 1.477243  [51200/60000]\n",
            "loss: 1.716026  [57600/60000]\n",
            "Test Error: \n",
            " Accuracy: 52.0%, Avg loss: 0.023578 \n",
            "\n",
            "Epoch 11\n",
            "-------------------------------\n",
            "loss: 1.337159  [    0/60000]\n",
            "loss: 1.462732  [ 6400/60000]\n",
            "loss: 1.314609  [12800/60000]\n",
            "loss: 1.685331  [19200/60000]\n",
            "loss: 1.395836  [25600/60000]\n",
            "loss: 1.452049  [32000/60000]\n",
            "loss: 1.493429  [38400/60000]\n",
            "loss: 1.327976  [44800/60000]\n",
            "loss: 1.446007  [51200/60000]\n",
            "loss: 1.679923  [57600/60000]\n",
            "Test Error: \n",
            " Accuracy: 56.1%, Avg loss: 0.022565 \n",
            "\n",
            "Epoch 12\n",
            "-------------------------------\n",
            "loss: 1.297000  [    0/60000]\n",
            "loss: 1.378351  [ 6400/60000]\n",
            "loss: 1.213009  [12800/60000]\n",
            "loss: 1.568678  [19200/60000]\n",
            "loss: 1.286106  [25600/60000]\n",
            "loss: 1.413010  [32000/60000]\n",
            "loss: 1.403563  [38400/60000]\n",
            "loss: 1.283257  [44800/60000]\n",
            "loss: 1.426742  [51200/60000]\n",
            "loss: 1.662207  [57600/60000]\n",
            "Test Error: \n",
            " Accuracy: 61.3%, Avg loss: 0.021440 \n",
            "\n",
            "Epoch 13\n",
            "-------------------------------\n",
            "loss: 1.257008  [    0/60000]\n",
            "loss: 1.298985  [ 6400/60000]\n",
            "loss: 1.138318  [12800/60000]\n",
            "loss: 1.510244  [19200/60000]\n",
            "loss: 1.236613  [25600/60000]\n",
            "loss: 1.376140  [32000/60000]\n",
            "loss: 1.365847  [38400/60000]\n",
            "loss: 1.251785  [44800/60000]\n",
            "loss: 1.393549  [51200/60000]\n",
            "loss: 1.632999  [57600/60000]\n",
            "Test Error: \n",
            " Accuracy: 62.3%, Avg loss: 0.020749 \n",
            "\n",
            "Epoch 14\n",
            "-------------------------------\n",
            "loss: 1.217135  [    0/60000]\n",
            "loss: 1.250378  [ 6400/60000]\n",
            "loss: 1.085704  [12800/60000]\n",
            "loss: 1.466652  [19200/60000]\n",
            "loss: 1.199589  [25600/60000]\n",
            "loss: 1.340202  [32000/60000]\n",
            "loss: 1.335153  [38400/60000]\n",
            "loss: 1.225096  [44800/60000]\n",
            "loss: 1.362267  [51200/60000]\n",
            "loss: 1.603194  [57600/60000]\n",
            "Test Error: \n",
            " Accuracy: 63.2%, Avg loss: 0.020142 \n",
            "\n",
            "Epoch 15\n",
            "-------------------------------\n",
            "loss: 1.179802  [    0/60000]\n",
            "loss: 1.209840  [ 6400/60000]\n",
            "loss: 1.041247  [12800/60000]\n",
            "loss: 1.428470  [19200/60000]\n",
            "loss: 1.166286  [25600/60000]\n",
            "loss: 1.306719  [32000/60000]\n",
            "loss: 1.306536  [38400/60000]\n",
            "loss: 1.202422  [44800/60000]\n",
            "loss: 1.333095  [51200/60000]\n",
            "loss: 1.574389  [57600/60000]\n",
            "Test Error: \n",
            " Accuracy: 64.0%, Avg loss: 0.019594 \n",
            "\n",
            "Done!\n"
          ]
        }
      ]
    },
    {
      "cell_type": "code",
      "source": [
        "classes = [\n",
        "    \"T-shirt/top\",\n",
        "    \"Trouser\",\n",
        "    \"Pullover\",\n",
        "    \"Dress\",\n",
        "    \"Coat\",\n",
        "    \"Sandal\",\n",
        "    \"Shirt\",\n",
        "    \"Sneaker\",\n",
        "    \"Bag\",\n",
        "    \"Ankle boot\",\n",
        "]\n",
        "\n",
        "model.eval()\n",
        "x, y = test_data[0][0], test_data[0][1]\n",
        "with torch.no_grad():\n",
        "    pred = model(x)\n",
        "    predicted, actual = classes[pred[0].argmax(0)], classes[y]\n",
        "    print(f'Predicted: \"{predicted}\", Actual: \"{actual}\"')"
      ],
      "metadata": {
        "colab": {
          "base_uri": "https://localhost:8080/"
        },
        "id": "gumL9g5SsrZ9",
        "outputId": "dde6b4ed-78a7-4a7d-9a1e-f49b38a63d2a"
      },
      "execution_count": 12,
      "outputs": [
        {
          "output_type": "stream",
          "name": "stdout",
          "text": [
            "Predicted: \"Ankle boot\", Actual: \"Ankle boot\"\n"
          ]
        }
      ]
    },
    {
      "cell_type": "code",
      "source": [
        "\n",
        "figure = plt.figure(figsize=(10, 8))\n",
        "cols, rows = 1, 1\n",
        "img, label = test_data[0][0], test_data[0][1]\n",
        "figure.add_subplot(rows, cols, 1)\n",
        "plt.title(label)\n",
        "plt.axis(\"off\")\n",
        "plt.imshow(img.squeeze(), cmap=\"gray\")\n",
        "plt.show()\n"
      ],
      "metadata": {
        "colab": {
          "base_uri": "https://localhost:8080/",
          "height": 675
        },
        "id": "FYQSEMGPs1Eo",
        "outputId": "2a2a2d8a-abb4-46fe-87e0-648598909df3"
      },
      "execution_count": 14,
      "outputs": [
        {
          "output_type": "display_data",
          "data": {
            "text/plain": [
              "<Figure size 1000x800 with 1 Axes>"
            ],
            "image/png": "[encoded data removed]"
          },
          "metadata": {}
        }
      ]
    }
  ]
}